{
  "cells": [
    {
      "cell_type": "markdown",
      "metadata": {
        "id": "nDsVMGiVgSq2"
      },
      "source": [
        "## Фильтры границ\n",
        "\n",
        "##### Автор: [Радослав Нейчев](https://www.linkedin.com/in/radoslav-neychev/), https://t.me/s/girafe_ai"
      ]
    },
    {
      "cell_type": "code",
      "execution_count": null,
      "metadata": {
        "id": "3isBRG6PgSq6"
      },
      "outputs": [],
      "source": [
        "# do not change the code in the block below\n",
        "# __________start of block__________\n",
        "import json\n",
        "import os\n",
        "import cv2\n",
        "import random\n",
        "\n",
        "import numpy as np\n",
        "import torch\n",
        "import torchvision\n",
        "from IPython.display import clear_output\n",
        "from matplotlib import pyplot as plt\n",
        "from torchvision.datasets import FashionMNIST\n",
        "\n",
        "# __________end of block__________"
      ]
    },
    {
      "cell_type": "markdown",
      "metadata": {
        "id": "zeA6Q5-CgSq7"
      },
      "source": [
        "Продолжим работать с набором данных [FashionMNIST](https://github.com/zalandoresearch/fashion-mnist).\n",
        "\n",
        "__Ваша задача: реализовать механизм выделения границ (Sobel filter) и упрощенный вариант построения гистограммы ориентированных градиентов.__\n",
        "\n",
        "Точность классификации оцениваться не будет, вам лишь необходимо реализовать функции и сдать их в контест.\n",
        "\n",
        "В ноутбуке присутствует несколько тестов, которые помогут вам отладить свое решение."
      ]
    },
    {
      "cell_type": "code",
      "execution_count": null,
      "metadata": {
        "colab": {
          "base_uri": "https://localhost:8080/",
          "height": 539
        },
        "id": "aYcL28OsgSq8",
        "outputId": "e225f6ca-1813-4957-cdfa-f90f10c036a9"
      },
      "outputs": [
        {
          "output_type": "stream",
          "name": "stderr",
          "text": [
            "100%|██████████| 26.4M/26.4M [00:02<00:00, 13.1MB/s]\n",
            "100%|██████████| 29.5k/29.5k [00:00<00:00, 207kB/s]\n",
            "100%|██████████| 4.42M/4.42M [00:01<00:00, 3.96MB/s]\n",
            "100%|██████████| 5.15k/5.15k [00:00<00:00, 12.5MB/s]\n"
          ]
        },
        {
          "output_type": "execute_result",
          "data": {
            "text/plain": [
              "Text(0.5, 1.0, 'Image label: 3')"
            ]
          },
          "metadata": {},
          "execution_count": 4
        },
        {
          "output_type": "display_data",
          "data": {
            "text/plain": [
              "<Figure size 640x480 with 1 Axes>"
            ],
            "image/png": "[encoded data removed]"
          },
          "metadata": {}
        }
      ],
      "source": [
        "# do not change the code in the block below\n",
        "# __________start of block__________\n",
        "\n",
        "train_fmnist_data = FashionMNIST(\n",
        "    \".\", train=True, transform=torchvision.transforms.ToTensor(), download=True\n",
        ")\n",
        "\n",
        "train_data_loader = torch.utils.data.DataLoader(\n",
        "    train_fmnist_data, batch_size=32, shuffle=True, num_workers=2\n",
        ")\n",
        "\n",
        "random_batch = next(iter(train_data_loader))\n",
        "_image, _label = random_batch[0][0], random_batch[1][0]\n",
        "plt.figure()\n",
        "plt.imshow(_image.reshape(28, 28))\n",
        "plt.title(f\"Image label: {_label}\")\n",
        "# __________end of block__________"
      ]
    },
    {
      "cell_type": "markdown",
      "metadata": {
        "id": "tY4EroNKUQAA"
      },
      "source": [
        "#### Шаг 1. Sobel filtering\n",
        "Реализуйте функцию `compute_sobel_gradients_two_loops`. Часть функции уже написана, пожалуйста, не меняйте написанный код."
      ]
    },
    {
      "cell_type": "code",
      "execution_count": 40,
      "metadata": {
        "id": "TCh93JgzUQAA"
      },
      "outputs": [],
      "source": [
        "# do not change the code in the block below\n",
        "# __________start of block__________\n",
        "import numpy as np\n",
        "def compute_sobel_gradients_two_loops(image):\n",
        "    # Get image dimensions\n",
        "    height, width = image.shape # длина, ширина\n",
        "\n",
        "    # Initialize output gradients\n",
        "    # Создаем массив размера image для дальнейшей записи градиентов\n",
        "    gradient_x = np.zeros_like(image, dtype=np.float64)\n",
        "    gradient_y = np.zeros_like(image, dtype=np.float64)\n",
        "\n",
        "    # Pad the image with zeros to handle borders\n",
        "    # Добавляем padding\n",
        "    padded_image = np.pad(image, ((1, 1), (1, 1)), mode='constant', constant_values=0)\n",
        "\n",
        "\n",
        "    # Define the Sobel kernels for X and Y gradients\n",
        "    sobel_x = np.array([[-1, 0, +1],\n",
        "                        [-2, 0, +2],\n",
        "                        [-1, 0, +1]], dtype=np.float64)\n",
        "\n",
        "    sobel_y = np.array([[-1, -2, -1],\n",
        "                        [ 0,  0,  0],\n",
        "                        [+1, +2, +1]], dtype=np.float64)\n",
        "    # Apply Sobel filter for X and Y gradients using convolution\n",
        "    for i in range(1, height + 1):\n",
        "        for j in range(1, width + 1):\n",
        "            region = padded_image[i-1:i+2, j-1:j+2]\n",
        "            gx = np.sum(region * sobel_x)\n",
        "            gy = np.sum(region * sobel_y)\n",
        "            gradient_x[i-1, j-1] = gx\n",
        "            gradient_y[i-1, j-1] = gy\n",
        "            #gradient_x[i - 1, j - 1] = (\n",
        "            # padded_image[i-1, j-1]*(-1) + padded_image[i-1, j]*0 + padded_image[i-1, j+1]*1 +\n",
        "            # padded_image[i, j-1]*(-2) + padded_image[i, j]*0 + padded_image[i, j+1]*2 +\n",
        "            # padded_image[i+1, j-1]*(-1) + padded_image[i+1, j]*0 + padded_image[i+1, j+1]*1)\n",
        "            # gradient_y[i - 1, j - 1] =(\n",
        "            # padded_image[i-1, j-1]*(-1) + padded_image[i-1, j]*(-2) + padded_image[i-1, j+1]*(-1) +\n",
        "            # padded_image[i, j-1]*0 + padded_image[i, j]*0 + padded_image[i, j+1]*0 +\n",
        "            # padded_image[i+1, j-1]*1 + padded_image[i+1, j]*2 + padded_image[i+1, j+1]*1)\n",
        "    return gradient_x, gradient_y"
      ]
    },
    {
      "cell_type": "markdown",
      "metadata": {
        "id": "b3JiKFD3UQAA"
      },
      "source": [
        "Для проверки написанного кода мы обратимся к уже реализованной версии в из opencv. Ввиду того, что операция padding'а может произвоиться иначе, будем игнорировать расхождения на краях изображения."
      ]
    },
    {
      "cell_type": "code",
      "execution_count": null,
      "metadata": {
        "id": "78L36HwDUQAA"
      },
      "outputs": [],
      "source": [
        "# do not change the code in the block below\n",
        "# __________start of block__________\n",
        "def compute_sobel_gradients_opencv(image):\n",
        "    # Apply Sobel filter for horizontal and vertical gradients\n",
        "    sobel_x = cv2.Sobel(image, cv2.CV_64F, 1, 0, ksize=3)\n",
        "    sobel_y = cv2.Sobel(image, cv2.CV_64F, 0, 1, ksize=3)\n",
        "\n",
        "    # Return gradients in both directions\n",
        "    return sobel_x, sobel_y\n",
        "# __________end of block__________\n"
      ]
    },
    {
      "cell_type": "code",
      "execution_count": null,
      "metadata": {
        "colab": {
          "base_uri": "https://localhost:8080/"
        },
        "id": "9biLhSTmUQAA",
        "outputId": "eb552339-1266-44a2-b1ed-cbaac9b7444f"
      },
      "outputs": [
        {
          "output_type": "stream",
          "name": "stdout",
          "text": [
            "Everything seems fine!\n"
          ]
        }
      ],
      "source": [
        "# do not change the code in the block below\n",
        "# __________start of block__________\n",
        "image = train_fmnist_data[7][0][0].numpy()\n",
        "gradients_two_loops = compute_sobel_gradients_two_loops(image)\n",
        "gradients_opencv = compute_sobel_gradients_opencv(image)\n",
        "\n",
        "assert np.allclose(gradients_two_loops[0][1:-1, 1:-1], gradients_opencv[0][1:-1, 1:-1], atol=1e-2), \"gradients_two_loops[0] and gradients_opencv[0] are not close\"\n",
        "assert np.allclose(gradients_two_loops[1][1:-1, 1:-1], gradients_opencv[1][1:-1, 1:-1], atol=1e-2), \"gradients_two_loops[1] and gradients_opencv[1] are not close\"\n",
        "print(\"Everything seems fine!\")\n",
        "# __________end of block__________\n"
      ]
    },
    {
      "cell_type": "code",
      "execution_count": null,
      "metadata": {
        "colab": {
          "base_uri": "https://localhost:8080/",
          "height": 226
        },
        "id": "dsv5wMDPUQAB",
        "outputId": "6f99d3f3-85e9-4b12-9365-a3bc53d068c3"
      },
      "outputs": [
        {
          "output_type": "execute_result",
          "data": {
            "text/plain": [
              "<matplotlib.image.AxesImage at 0x7dcbdb0ab910>"
            ]
          },
          "metadata": {},
          "execution_count": 8
        },
        {
          "output_type": "display_data",
          "data": {
            "text/plain": [
              "<Figure size 640x480 with 3 Axes>"
            ],
            "image/png": "[encoded data removed]"
          },
          "metadata": {}
        }
      ],
      "source": [
        "image = random.choice(train_fmnist_data)[0][0].numpy()\n",
        "gradients_two_loops = compute_sobel_gradients_two_loops(image)\n",
        "\n",
        "plt.subplot(1, 3, 1)\n",
        "plt.imshow(image)\n",
        "plt.subplot(1, 3, 2)\n",
        "plt.imshow(gradients_two_loops[0])\n",
        "plt.subplot(1, 3, 3)\n",
        "plt.imshow(gradients_two_loops[1])"
      ]
    },
    {
      "cell_type": "markdown",
      "metadata": {
        "id": "pxK8sEaxUQAB"
      },
      "source": [
        "#### Шаг 2. Подсчет градиентов в полярных координатах.\n",
        "Реализуйте две функции:\n",
        " * `compute_gradient_magnitude`, котрая считает евклидову норму градиента\n",
        " * `compute_gradient_direction`, которая счиает его направление в виде угла относительно оси $x$. Возвращаемый угол должен быть в диапазоне $(-180; 180]$."
      ]
    },
    {
      "cell_type": "code",
      "execution_count": 41,
      "metadata": {
        "id": "zCo4XIPxUQAB"
      },
      "outputs": [],
      "source": [
        "import numpy as np # for your convenience when you copy the code to the contest\n",
        "def compute_gradient_magnitude(sobel_x, sobel_y):\n",
        "    '''\n",
        "    Compute the magnitude of the gradient given the x and y gradients.\n",
        "\n",
        "    Inputs:\n",
        "        sobel_x: numpy array of the x gradient.\n",
        "        sobel_y: numpy array of the y gradient.\n",
        "\n",
        "    Returns:\n",
        "        magnitude: numpy array of the same shape as the input [0] with the magnitude of the gradient.\n",
        "    '''\n",
        "    magnitude = np.sqrt(sobel_x**2 + sobel_y**2)\n",
        "    return magnitude\n",
        "\n",
        "\n",
        "def compute_gradient_direction(sobel_x, sobel_y):\n",
        "    '''\n",
        "    Compute the direction of the gradient given the x and y gradients. Angle must be in degrees in the range (-180; 180].\n",
        "    Use arctan2 function to compute the angle.\n",
        "\n",
        "    Inputs:\n",
        "        sobel_x: numpy array of the x gradient.\n",
        "        sobel_y: numpy array of the y gradient.\n",
        "\n",
        "    Returns:\n",
        "        gradient_direction: numpy array of the same shape as the input [0] with the direction of the gradient.\n",
        "    '''\n",
        "    gradient_direction = np.arctan2(sobel_y, sobel_x) * 180 / np.pi\n",
        "    return gradient_direction\n"
      ]
    },
    {
      "cell_type": "markdown",
      "metadata": {
        "id": "TU14MOC1UQAB"
      },
      "source": [
        "Небольшие тесты для функции `compute_gradient_direction`"
      ]
    },
    {
      "cell_type": "code",
      "execution_count": null,
      "metadata": {
        "colab": {
          "base_uri": "https://localhost:8080/"
        },
        "id": "2r9pw_xrUQAB",
        "outputId": "0251c617-6a14-48db-d2dc-47fd32bc9f8f"
      },
      "outputs": [
        {
          "output_type": "stream",
          "name": "stdout",
          "text": [
            "Everything seems fine!\n"
          ]
        }
      ],
      "source": [
        "# do not change the code in the block below\n",
        "# __________start of block__________\n",
        "image = train_fmnist_data[7][0][0].numpy()\n",
        "gradients_two_loops = compute_sobel_gradients_two_loops(image)\n",
        "\n",
        "magnitudes = compute_gradient_magnitude(gradients_two_loops[0], gradients_two_loops[1])\n",
        "angles = compute_gradient_direction(gradients_two_loops[0], gradients_two_loops[1])\n",
        "assert np.all(magnitudes >= 0), \"Magnitudes should be non-negative\"\n",
        "assert np.all(angles > -180) and np.all(angles <= 180), \"Angles should be in the range (-180, 180]\"\n",
        "print(\"Everything seems fine!\")\n",
        "# __________end of block__________\n"
      ]
    },
    {
      "cell_type": "markdown",
      "metadata": {
        "id": "HSwzStpBUQAB"
      },
      "source": [
        "Пример визуализации итоговых границ, полученных с помощью фильтра Собеля:"
      ]
    },
    {
      "cell_type": "code",
      "execution_count": null,
      "metadata": {
        "colab": {
          "base_uri": "https://localhost:8080/",
          "height": 304
        },
        "id": "ITFNhduzUQAB",
        "outputId": "ff44e164-cee9-4110-e487-ee783c82932f"
      },
      "outputs": [
        {
          "output_type": "execute_result",
          "data": {
            "text/plain": [
              "<matplotlib.image.AxesImage at 0x7dcbdafe5e90>"
            ]
          },
          "metadata": {},
          "execution_count": 11
        },
        {
          "output_type": "display_data",
          "data": {
            "text/plain": [
              "<Figure size 640x480 with 2 Axes>"
            ],
            "image/png": "[encoded data removed]"
          },
          "metadata": {}
        }
      ],
      "source": [
        "image = random.choice(train_fmnist_data)[0][0].numpy()\n",
        "magnitudes = compute_gradient_magnitude(*compute_sobel_gradients_two_loops(image))\n",
        "\n",
        "plt.subplot(1, 2, 1)\n",
        "plt.imshow(image)\n",
        "plt.subplot(1, 2, 2)\n",
        "plt.imshow(magnitudes)"
      ]
    },
    {
      "cell_type": "markdown",
      "metadata": {
        "id": "MsF0WLdEUQAB"
      },
      "source": [
        "#### Шаг 3. Упрощённый вариант HoG.\n",
        "Вам предстоит реализовать гистограмму ориентированных градиентов (HoG). В общем виде это происходит следующим образом:\n",
        "1. Перевод изображения в одноканальное. Если изображение цветное, то оно долнжо быть преобразовано в оттенки серого. Можно воспользоваться формулой из [Wiki](https://en.wikipedia.org/wiki/Grayscale):\n",
        "$$\n",
        "\\text{brightness}_{i, j} = \\text{Red}_{i, j} * 0.2126 + \\text{Green}_{i, j} * 0.7152 + \\text{Blue}_{i, j} * 0.0722,\n",
        "$$\n",
        "но для простоты просто будем усреднять все каналы.\n",
        "\n",
        "*Примечание: это далеко не единственный способ преобразования, и он может быть нелинейным. Подробности доступны по ссылке выше*.\n",
        "\n",
        "2. Вычисление градиентов изображения с помощью фитра Собеля.\n",
        "\n",
        "3. Определение направления и нормы градиента для каждого пикселя.\n",
        "\n",
        "4. Построение гистограмм направлений градиентов. Для этого изображение разбивается на непересекающиеся квадратные ячейки. Размер каждой ячейки задается параметром `pixels_per_cell`, который по умолчанию равен равным (8, 8). Для каждой ячейки изображения строится гистограмму направлений градиентов. Для этого:\n",
        "    * Каждое направление градиента будет отнесено к определенному бину (всего 9 бинов от -180 до 180).\n",
        "    * Для каждого бина все попавшие в нее нормы суммируются.\n",
        "    * Построенная гистограмма нормируется (чтобы сумма всех бинов была равна 1).\n",
        "5. Групповая нормализация гистограмм. Для большей адаптивности метода к изменениям освещенности производится нормировка. Подробнее о ней можно почитать [здесь](https://scikit-image.org/docs/dev/auto_examples/features_detection/plot_hog.html). В данном задании она производиться **не будет**.\n",
        "\n",
        "На этом этапе вам нужно выполнить только шаги 1-4. Обратите внимание, что **групповая нормализация** гистограмм не выполняется (этот шаг пропущен)."
      ]
    },
    {
      "cell_type": "code",
      "source": [
        "# import numpy as np\n",
        "# from scipy.ndimage import sobel\n",
        "\n",
        "# def compute_hog(image, pixels_per_cell=(7, 7), bins=9):\n",
        "#     if len(image.shape) == 3:\n",
        "#         image = np.mean(image, axis=2)\n",
        "\n",
        "#     image = image.astype(np.float32)\n",
        "#     gx = sobel(image, axis=1).astype(np.float32)\n",
        "#     gy = sobel(image, axis=0).astype(np.float32)\n",
        "\n",
        "#     magnitude = np.hypot(gx, gy)\n",
        "#     orientation = (np.rad2deg(np.arctan2(gy, gx)) + 180) % 180  # [0, 180)\n",
        "\n",
        "#     cell_h, cell_w = pixels_per_cell\n",
        "#     n_cells_y = image.shape[0] // cell_h\n",
        "#     n_cells_x = image.shape[1] // cell_w\n",
        "\n",
        "#     bin_size = 180 / bins\n",
        "#     histograms = np.zeros((n_cells_y, n_cells_x, bins), dtype=np.float32)\n",
        "\n",
        "#     for cy in range(n_cells_y):\n",
        "#         for cx in range(n_cells_x):\n",
        "#             cell_mag = magnitude[cy*cell_h:(cy+1)*cell_h, cx*cell_w:(cx+1)*cell_w].ravel()\n",
        "#             cell_ori = orientation[cy*cell_h:(cy+1)*cell_h, cx*cell_w:(cx+1)*cell_w].ravel()\n",
        "\n",
        "#             hist = np.zeros(bins, dtype=np.float32)\n",
        "#             for mag, angle in zip(cell_mag, cell_ori):\n",
        "#                 bin_f = angle / bin_size\n",
        "#                 bin_idx = int(bin_f) % bins\n",
        "#                 next_idx = (bin_idx + 1) % bins\n",
        "#                 ratio = bin_f - bin_idx\n",
        "\n",
        "#                 hist[bin_idx] += mag * (1 - ratio)\n",
        "#                 hist[next_idx] += mag * ratio\n",
        "\n",
        "#             norm = np.sum(hist)\n",
        "#             if norm > 1e-6:\n",
        "#                 hist /= norm\n",
        "\n",
        "#             histograms[cy, cx] = hist\n",
        "\n",
        "#     return histograms\n"
      ],
      "metadata": {
        "id": "cM_k-mRL1E0n"
      },
      "execution_count": null,
      "outputs": []
    },
    {
      "cell_type": "code",
      "source": [
        "# def compute_hog(image, pixels_per_cell=(7, 7), bins=9):\n",
        "#     if len(image.shape) == 3:\n",
        "#         image = np.mean(image, axis=2)\n",
        "\n",
        "#     grad_x, grad_y = compute_sobel_gradients_two_loops(image)\n",
        "#     magnitude = compute_gradient_magnitude(grad_x, grad_y)\n",
        "#     direction = compute_gradient_direction(grad_x, grad_y)\n",
        "\n",
        "#     cell_h, cell_w = pixels_per_cell\n",
        "#     n_cells_y = image.shape[0] // cell_h\n",
        "#     n_cells_x = image.shape[1] // cell_w\n",
        "#     histograms = np.zeros((n_cells_y, n_cells_x, bins), dtype=np.float32)  # <-- float32\n",
        "\n",
        "#     bin_size = 360 / bins\n",
        "\n",
        "#     for cy in range(n_cells_y):\n",
        "#         for cx in range(n_cells_x):\n",
        "#             cell_mag = magnitude[cy*cell_h:(cy+1)*cell_h, cx*cell_w:(cx+1)*cell_w]\n",
        "#             cell_dir = direction[cy*cell_h:(cy+1)*cell_h, cx*cell_w:(cx+1)*cell_w]\n",
        "#             cell_hist = np.zeros(bins, dtype=np.float32)  # <-- float32\n",
        "\n",
        "#             for mag, ang in zip(cell_mag.flat, cell_dir.flat):\n",
        "#               angle = (ang + 180) % 360\n",
        "#               bin_idx = int(angle // bin_size)\n",
        "#               if bin_idx == bins:\n",
        "#                   bin_idx = bins - 1\n",
        "#               cell_hist[bin_idx] += mag\n",
        "\n",
        "\n",
        "#             sum_bins = np.sum(cell_hist)\n",
        "#             if sum_bins > 1e-6:\n",
        "#               cell_hist /= sum_bins\n",
        "\n",
        "#             histograms[cx, cy] = cell_hist\n",
        "\n",
        "#     return histograms\n"
      ],
      "metadata": {
        "id": "gS0R4EpMWEPO"
      },
      "execution_count": null,
      "outputs": []
    },
    {
      "cell_type": "code",
      "source": [
        "cell_size = 7\n",
        "def compute_hog(image, pixels_per_cell=(cell_size, cell_size), bins=9):\n",
        "    if len(image.shape) == 3:\n",
        "        image = np.mean(image, axis=2)\n",
        "\n",
        "    # 2. Градиенты Собеля\n",
        "    grad_x, grad_y = compute_sobel_gradients_two_loops(image)\n",
        "\n",
        "\n",
        "    magnitude = compute_gradient_magnitude(grad_x, grad_y)\n",
        "    direction = compute_gradient_direction(grad_x, grad_y)\n",
        "\n",
        "\n",
        "    cell_h, cell_w = pixels_per_cell\n",
        "\n",
        "\n",
        "    n_cells_x = image.shape[1] // cell_w\n",
        "    n_cells_y = image.shape[0] // cell_h\n",
        "\n",
        "    histograms = np.zeros((n_cells_y, n_cells_x, bins), dtype=np.float64)\n",
        "\n",
        "    bin_size = 360 / bins\n",
        "\n",
        "    for cy in range(n_cells_y):\n",
        "        for cx in range(n_cells_x):\n",
        "            cell_magnitudes = magnitude[cy*cell_h : (cy+1)*cell_h, cx*cell_w : (cx+1)*cell_w]\n",
        "            cell_directions = direction[cy*cell_h : (cy+1)*cell_h, cx*cell_w : (cx+1)*cell_w]\n",
        "\n",
        "            bins_mas = np.zeros(bins, dtype=np.float64)\n",
        "\n",
        "            for y_local in range(cell_h):\n",
        "                for x_local in range(cell_w):\n",
        "                    dir_cell = cell_directions[y_local, x_local]\n",
        "                    mag_cell   = cell_magnitudes[y_local, x_local]\n",
        "\n",
        "                    # так как здесь жесткое разделение, надо исключить вариант, когда число, сильно близкое к bin+1 попадает в bin\n",
        "                    angle_0_360 = (dir_cell + 180.0) % 360.0 - 1e-5\n",
        "\n",
        "                    bin_idx = int(angle_0_360 // bin_size)\n",
        "                    if bin_idx == bins:\n",
        "                        bin_idx = bins - 1\n",
        "\n",
        "                    bins_mas[bin_idx] += mag_cell\n",
        "\n",
        "            sum_bins = np.sum(bins_mas)\n",
        "            if sum_bins > 1e-6:\n",
        "                bins_mas /= sum_bins\n",
        "\n",
        "            histograms[cy, cx, :] = bins_mas\n",
        "\n",
        "    return histograms"
      ],
      "metadata": {
        "id": "VsD0rcWOP602"
      },
      "execution_count": 51,
      "outputs": []
    },
    {
      "cell_type": "code",
      "execution_count": null,
      "metadata": {
        "id": "cw0goCtbUQAC"
      },
      "outputs": [],
      "source": [
        "# cell_size = 7\n",
        "# def compute_hog(image, pixels_per_cell=(cell_size, cell_size), bins=9):\n",
        "#     # 1. Convert the image to grayscale if it's not already (assuming the image is in RGB or BGR)\n",
        "#     if len(image.shape) == 3:\n",
        "#         image = np.mean(image, axis=2)  # Simple averaging to convert to grayscale\n",
        "\n",
        "#     # 2. Compute gradients with Sobel filter\n",
        "#     gradient_x, gradient_y = compute_sobel_gradients_two_loops(image)\n",
        "\n",
        "#     # 3. Compute gradient magnitude and direction\n",
        "#     magnitude = compute_gradient_magnitude(gradient_x, gradient_y)\n",
        "#     direction = compute_gradient_direction(gradient_x, gradient_y)\n",
        "\n",
        "#     # 4. Create histograms of gradient directions for each cell\n",
        "#     cell_height, cell_width = pixels_per_cell\n",
        "#     n_cells_x = image.shape[1] // cell_width\n",
        "#     n_cells_y = image.shape[0] // cell_height\n",
        "\n",
        "#     histograms = np.zeros((n_cells_y, n_cells_x, bins), dtype=np.float64)\n",
        "#     bin_interval = 360 / bins\n",
        "\n",
        "#     for i in range(n_cells_y):\n",
        "#         for j in range(n_cells_x):\n",
        "#             bins_mas = np.zeros(bins, dtype=np.float64)\n",
        "#             # Вырежем кусочки, с которыми будем работать\n",
        "#             magnitude_cell = magnitude[i*cell_height:(i+1)*cell_height, j*cell_width: (j+1)*cell_width]\n",
        "#             direction_cell = direction[i*cell_height:(i+1)*cell_height, j*cell_width: (j+1)*cell_width]\n",
        "\n",
        "#             for y in range(cell_height):\n",
        "#               for x in range(cell_width):\n",
        "#                 dir_cell = direction_cell[y][x] #% 180\n",
        "#                 bin_num = int( dir_cell // bin_interval) % bins\n",
        "#                 bin_num_next = (bin_num+1) % bins\n",
        "#                 # bin_num = int((direction_cell[y][x] + 180) // bin_interval) % bins\n",
        "#                 # bin_num_next = (bin_num+1) % bins\n",
        "\n",
        "\n",
        "#                 bin_center = (bin_num + 0.5) * bin_interval\n",
        "#                 part_for_bins = (direction_cell[y][x] - bin_center) / bin_interval\n",
        "#                 # part_for_bins = (dir_cell % bin_interval) / bin_interval\n",
        "\n",
        "#                 # part_for_bins = ((direction_cell[y][x] + 180) % bin_interval) / bin_interval\n",
        "#                 bins_mas[bin_num] += (1-part_for_bins) * magnitude_cell[y][x]\n",
        "#                 bins_mas[bin_num_next] += part_for_bins * magnitude_cell[y][x]\n",
        "\n",
        "#             hist_sum = np.sum(bins_mas)\n",
        "#             if hist_sum > 0:\n",
        "#               bins_mas /= hist_sum\n",
        "#             histograms[i, j] = bins_mas\n",
        "#     return histograms"
      ]
    },
    {
      "cell_type": "markdown",
      "metadata": {
        "id": "8ch-Yg5EUQAC"
      },
      "source": [
        "Для запуска тестов ниже файлы `hog_data.npy` и `image_data.npy` из репозитория должны быть доступны в той же директории, что и ноутбук. Вы можете скачать их в репозитории."
      ]
    },
    {
      "cell_type": "code",
      "execution_count": 52,
      "metadata": {
        "id": "YaEqjLPOUQAC",
        "colab": {
          "base_uri": "https://localhost:8080/"
        },
        "outputId": "168e9044-b5c0-45e5-f0fb-13f23985b423"
      },
      "outputs": [
        {
          "output_type": "stream",
          "name": "stdout",
          "text": [
            "Everything seems fine!\n"
          ]
        }
      ],
      "source": [
        "# do not change the code in the block below\n",
        "# __________start of block__________\n",
        "image = random.choice(train_fmnist_data)[0][0].numpy()\n",
        "\n",
        "hog = compute_hog(image)\n",
        "assert hog.shape == (4, 4, 9), \"hog should have shape (4, 4, 9) for the FashionMNIST image with default parameters\"\n",
        "print(\"Everything seems fine!\")\n",
        "\n",
        "assert os.path.exists(\"/content/hog_data.npy\") and os.path.exists(\"/content/image_data.npy\"), \"hog_data.npy and image_data.npy should be in the same directory as the notebook\"\n",
        "with open(\"/content/hog_data.npy\", \"rb\") as f:\n",
        "    hog_data = np.load(f, allow_pickle=True)\n",
        "with open(\"/content/image_data.npy\", \"rb\") as f:\n",
        "    image_data = np.load(f, allow_pickle=True)\n",
        "for test_image, test_hog in zip(image_data, hog_data):\n",
        "    hog = compute_hog(test_image)\n",
        "    assert np.allclose(hog, test_hog), \"hog should be the same\"\n",
        "\n",
        "# __________end of block__________\n"
      ]
    },
    {
      "cell_type": "markdown",
      "metadata": {
        "id": "X6zdJtNaUQAC"
      },
      "source": [
        "Визуализация полученных гистограмм. Сетка выглядит чуть сдвинутой из-за существенного размера пискеля, это нормально."
      ]
    },
    {
      "cell_type": "code",
      "execution_count": 46,
      "metadata": {
        "id": "bg-ircxlUQAC",
        "colab": {
          "base_uri": "https://localhost:8080/",
          "height": 1000
        },
        "outputId": "4cb58fa3-daa3-452b-e946-3fa2d4d838ad"
      },
      "outputs": [
        {
          "output_type": "display_data",
          "data": {
            "text/plain": [
              "<Figure size 640x480 with 1 Axes>"
            ],
            "image/png": "[encoded data removed]"
          },
          "metadata": {}
        },
        {
          "output_type": "display_data",
          "data": {
            "text/plain": [
              "<Figure size 1000x1000 with 16 Axes>"
            ],
            "image/png": "[encoded data removed]"
          },
          "metadata": {}
        }
      ],
      "source": [
        "#plot all the histograms for (3, 3) cells:\n",
        "image = random.choice(train_fmnist_data)[0][0].numpy()\n",
        "hog = compute_hog(image)\n",
        "\n",
        "# draw cells on the image\n",
        "plt.imshow(image)\n",
        "for i in range(4):\n",
        "    for j in range(4):\n",
        "        plt.gca().add_patch(plt.Rectangle((j * cell_size, i * cell_size), cell_size, cell_size, fill=False, edgecolor='red', linewidth=1))\n",
        "plt.show()\n",
        "\n",
        "\n",
        "plt.figure(figsize=(10, 10))\n",
        "for i in range(4):\n",
        "    for j in range(4):\n",
        "        plt.subplot(4, 4, i * 4 + j + 1)\n",
        "        plt.bar(range(len(hog[i, j])), hog[i, j])\n",
        "        plt.title(f\"Cell {i}, {j}\")\n",
        "plt.show()\n"
      ]
    },
    {
      "cell_type": "markdown",
      "metadata": {
        "id": "t9mROLC2UQAC"
      },
      "source": [
        "### Сдача задания\n",
        "Сдайте функции в задачу в соревновании. Не забудьте, что при вставке кода все импортируемые библиотеки также должны вставляться вместе с вашим кодом. Вы не должны использовать что-либо, кроме `numpy` при написании решения."
      ]
    },
    {
      "cell_type": "markdown",
      "metadata": {
        "id": "OtWnYAN_gSrA"
      },
      "source": [
        "На этом задание завершено. Поздравляем!"
      ]
    }
  ],
  "metadata": {
    "accelerator": "GPU",
    "colab": {
      "gpuType": "T4",
      "provenance": []
    },
    "kernelspec": {
      "display_name": "py3_main",
      "language": "python",
      "name": "python3"
    },
    "language_info": {
      "codemirror_mode": {
        "name": "ipython",
        "version": 3
      },
      "file_extension": ".py",
      "mimetype": "text/x-python",
      "name": "python",
      "nbconvert_exporter": "python",
      "pygments_lexer": "ipython3",
      "version": "3.12.9"
    },
    "toc": {
      "base_numbering": 1,
      "nav_menu": {},
      "number_sections": true,
      "sideBar": true,
      "skip_h1_title": false,
      "title_cell": "Table of Contents",
      "title_sidebar": "Contents",
      "toc_cell": false,
      "toc_position": {},
      "toc_section_display": true,
      "toc_window_display": false
    }
  },
  "nbformat": 4,
  "nbformat_minor": 0
}