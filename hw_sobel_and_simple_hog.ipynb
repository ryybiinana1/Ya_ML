{
  "cells": [
    {
      "cell_type": "markdown",
      "metadata": {
        "id": "nDsVMGiVgSq2"
      },
      "source": [
        "## Фильтры границ\n",
        "\n",
        "##### Автор: [Радослав Нейчев](https://www.linkedin.com/in/radoslav-neychev/), https://t.me/s/girafe_ai"
      ]
    },
    {
      "cell_type": "code",
      "execution_count": 3,
      "metadata": {
        "id": "3isBRG6PgSq6"
      },
      "outputs": [],
      "source": [
        "# do not change the code in the block below\n",
        "# __________start of block__________\n",
        "import json\n",
        "import os\n",
        "import cv2\n",
        "import random\n",
        "\n",
        "import numpy as np\n",
        "import torch\n",
        "import torchvision\n",
        "from IPython.display import clear_output\n",
        "from matplotlib import pyplot as plt\n",
        "from torchvision.datasets import FashionMNIST\n",
        "\n",
        "# __________end of block__________"
      ]
    },
    {
      "cell_type": "markdown",
      "metadata": {
        "id": "zeA6Q5-CgSq7"
      },
      "source": [
        "Продолжим работать с набором данных [FashionMNIST](https://github.com/zalandoresearch/fashion-mnist).\n",
        "\n",
        "__Ваша задача: реализовать механизм выделения границ (Sobel filter) и упрощенный вариант построения гистограммы ориентированных градиентов.__\n",
        "\n",
        "Точность классификации оцениваться не будет, вам лишь необходимо реализовать функции и сдать их в контест.\n",
        "\n",
        "В ноутбуке присутствует несколько тестов, которые помогут вам отладить свое решение."
      ]
    },
    {
      "cell_type": "code",
      "execution_count": 4,
      "metadata": {
        "colab": {
          "base_uri": "https://localhost:8080/",
          "height": 539
        },
        "id": "aYcL28OsgSq8",
        "outputId": "e225f6ca-1813-4957-cdfa-f90f10c036a9"
      },
      "outputs": [
        {
          "output_type": "stream",
          "name": "stderr",
          "text": [
            "100%|██████████| 26.4M/26.4M [00:02<00:00, 13.1MB/s]\n",
            "100%|██████████| 29.5k/29.5k [00:00<00:00, 207kB/s]\n",
            "100%|██████████| 4.42M/4.42M [00:01<00:00, 3.96MB/s]\n",
            "100%|██████████| 5.15k/5.15k [00:00<00:00, 12.5MB/s]\n"
          ]
        },
        {
          "output_type": "execute_result",
          "data": {
            "text/plain": [
              "Text(0.5, 1.0, 'Image label: 3')"
            ]
          },
          "metadata": {},
          "execution_count": 4
        },
        {
          "output_type": "display_data",
          "data": {
            "text/plain": [
              "<Figure size 640x480 with 1 Axes>"
            ],
            "image/png": "[encoded data removed]"
          },
          "metadata": {}
        }
      ],
      "source": [
        "# do not change the code in the block below\n",
        "# __________start of block__________\n",
        "\n",
        "train_fmnist_data = FashionMNIST(\n",
        "    \".\", train=True, transform=torchvision.transforms.ToTensor(), download=True\n",
        ")\n",
        "\n",
        "train_data_loader = torch.utils.data.DataLoader(\n",
        "    train_fmnist_data, batch_size=32, shuffle=True, num_workers=2\n",
        ")\n",
        "\n",
        "random_batch = next(iter(train_data_loader))\n",
        "_image, _label = random_batch[0][0], random_batch[1][0]\n",
        "plt.figure()\n",
        "plt.imshow(_image.reshape(28, 28))\n",
        "plt.title(f\"Image label: {_label}\")\n",
        "# __________end of block__________"
      ]
    },
    {
      "cell_type": "markdown",
      "metadata": {
        "id": "tY4EroNKUQAA"
      },
      "source": [
        "#### Шаг 1. Sobel filtering\n",
        "Реализуйте функцию `compute_sobel_gradients_two_loops`. Часть функции уже написана, пожалуйста, не меняйте написанный код."
      ]
    },
    {
      "cell_type": "code",
      "execution_count": 33,
      "metadata": {
        "id": "TCh93JgzUQAA"
      },
      "outputs": [],
      "source": [
        "# do not change the code in the block below\n",
        "# __________start of block__________\n",
        "import numpy as np\n",
        "def compute_sobel_gradients_two_loops(image):\n",
        "    # Get image dimensions\n",
        "    height, width = image.shape # длина, ширина\n",
        "\n",
        "    # Initialize output gradients\n",
        "    # Создаем массив размера image для дальнейшей записи градиентов\n",
        "    gradient_x = np.zeros_like(image, dtype=np.float64)\n",
        "    gradient_y = np.zeros_like(image, dtype=np.float64)\n",
        "\n",
        "    # Pad the image with zeros to handle borders\n",
        "    # Добавляем padding\n",
        "    padded_image = np.pad(image, ((1, 1), (1, 1)), mode='constant', constant_values=0)\n",
        "\n",
        "\n",
        "    # Define the Sobel kernels for X and Y gradients\n",
        "    sobel_x = np.array([[-1, 0, +1],\n",
        "                        [-2, 0, +2],\n",
        "                        [-1, 0, +1]], dtype=np.float64)\n",
        "\n",
        "    sobel_y = np.array([[-1, -2, -1],\n",
        "                        [ 0,  0,  0],\n",
        "                        [+1, +2, +1]], dtype=np.float64)\n",
        "    # Apply Sobel filter for X and Y gradients using convolution\n",
        "    for i in range(1, height + 1):\n",
        "        for j in range(1, width + 1):\n",
        "            region = padded_image[i-1:i+2, j-1:j+2]\n",
        "            gx = np.sum(region * sobel_x)\n",
        "            gy = np.sum(region * sobel_y)\n",
        "            gradient_x[i-1, j-1] = gx\n",
        "            gradient_y[i-1, j-1] = gy\n",
        "            #gradient_x[i - 1, j - 1] = (\n",
        "            # padded_image[i-1, j-1]*(-1) + padded_image[i-1, j]*0 + padded_image[i-1, j+1]*1 +\n",
        "            # padded_image[i, j-1]*(-2) + padded_image[i, j]*0 + padded_image[i, j+1]*2 +\n",
        "            # padded_image[i+1, j-1]*(-1) + padded_image[i+1, j]*0 + padded_image[i+1, j+1]*1)\n",
        "            # gradient_y[i - 1, j - 1] =(\n",
        "            # padded_image[i-1, j-1]*(-1) + padded_image[i-1, j]*(-2) + padded_image[i-1, j+1]*(-1) +\n",
        "            # padded_image[i, j-1]*0 + padded_image[i, j]*0 + padded_image[i, j+1]*0 +\n",
        "            # padded_image[i+1, j-1]*1 + padded_image[i+1, j]*2 + padded_image[i+1, j+1]*1)\n",
        "    return gradient_x, gradient_y"
      ]
    },
    {
      "cell_type": "markdown",
      "metadata": {
        "id": "b3JiKFD3UQAA"
      },
      "source": [
        "Для проверки написанного кода мы обратимся к уже реализованной версии в из opencv. Ввиду того, что операция padding'а может произвоиться иначе, будем игнорировать расхождения на краях изображения."
      ]
    },
    {
      "cell_type": "code",
      "execution_count": 6,
      "metadata": {
        "id": "78L36HwDUQAA"
      },
      "outputs": [],
      "source": [
        "# do not change the code in the block below\n",
        "# __________start of block__________\n",
        "def compute_sobel_gradients_opencv(image):\n",
        "    # Apply Sobel filter for horizontal and vertical gradients\n",
        "    sobel_x = cv2.Sobel(image, cv2.CV_64F, 1, 0, ksize=3)\n",
        "    sobel_y = cv2.Sobel(image, cv2.CV_64F, 0, 1, ksize=3)\n",
        "\n",
        "    # Return gradients in both directions\n",
        "    return sobel_x, sobel_y\n",
        "# __________end of block__________\n"
      ]
    },
    {
      "cell_type": "code",
      "execution_count": 7,
      "metadata": {
        "colab": {
          "base_uri": "https://localhost:8080/"
        },
        "id": "9biLhSTmUQAA",
        "outputId": "eb552339-1266-44a2-b1ed-cbaac9b7444f"
      },
      "outputs": [
        {
          "output_type": "stream",
          "name": "stdout",
          "text": [
            "Everything seems fine!\n"
          ]
        }
      ],
      "source": [
        "# do not change the code in the block below\n",
        "# __________start of block__________\n",
        "image = train_fmnist_data[7][0][0].numpy()\n",
        "gradients_two_loops = compute_sobel_gradients_two_loops(image)\n",
        "gradients_opencv = compute_sobel_gradients_opencv(image)\n",
        "\n",
        "assert np.allclose(gradients_two_loops[0][1:-1, 1:-1], gradients_opencv[0][1:-1, 1:-1], atol=1e-2), \"gradients_two_loops[0] and gradients_opencv[0] are not close\"\n",
        "assert np.allclose(gradients_two_loops[1][1:-1, 1:-1], gradients_opencv[1][1:-1, 1:-1], atol=1e-2), \"gradients_two_loops[1] and gradients_opencv[1] are not close\"\n",
        "print(\"Everything seems fine!\")\n",
        "# __________end of block__________\n"
      ]
    },
    {
      "cell_type": "code",
      "execution_count": 8,
      "metadata": {
        "colab": {
          "base_uri": "https://localhost:8080/",
          "height": 226
        },
        "id": "dsv5wMDPUQAB",
        "outputId": "6f99d3f3-85e9-4b12-9365-a3bc53d068c3"
      },
      "outputs": [
        {
          "output_type": "execute_result",
          "data": {
            "text/plain": [
              "<matplotlib.image.AxesImage at 0x7dcbdb0ab910>"
            ]
          },
          "metadata": {},
          "execution_count": 8
        },
        {
          "output_type": "display_data",
          "data": {
            "text/plain": [
              "<Figure size 640x480 with 3 Axes>"
            ],
            "image/png": "[encoded data removed]"
          },
          "metadata": {}
        }
      ],
      "source": [
        "image = random.choice(train_fmnist_data)[0][0].numpy()\n",
        "gradients_two_loops = compute_sobel_gradients_two_loops(image)\n",
        "\n",
        "plt.subplot(1, 3, 1)\n",
        "plt.imshow(image)\n",
        "plt.subplot(1, 3, 2)\n",
        "plt.imshow(gradients_two_loops[0])\n",
        "plt.subplot(1, 3, 3)\n",
        "plt.imshow(gradients_two_loops[1])"
      ]
    },
    {
      "cell_type": "markdown",
      "metadata": {
        "id": "pxK8sEaxUQAB"
      },
      "source": [
        "#### Шаг 2. Подсчет градиентов в полярных координатах.\n",
        "Реализуйте две функции:\n",
        " * `compute_gradient_magnitude`, котрая считает евклидову норму градиента\n",
        " * `compute_gradient_direction`, которая счиает его направление в виде угла относительно оси $x$. Возвращаемый угол должен быть в диапазоне $(-180; 180]$."
      ]
    },
    {
      "cell_type": "code",
      "execution_count": 34,
      "metadata": {
        "id": "zCo4XIPxUQAB"
      },
      "outputs": [],
      "source": [
        "import numpy as np # for your convenience when you copy the code to the contest\n",
        "def compute_gradient_magnitude(sobel_x, sobel_y):\n",
        "    '''\n",
        "    Compute the magnitude of the gradient given the x and y gradients.\n",
        "\n",
        "    Inputs:\n",
        "        sobel_x: numpy array of the x gradient.\n",
        "        sobel_y: numpy array of the y gradient.\n",
        "\n",
        "    Returns:\n",
        "        magnitude: numpy array of the same shape as the input [0] with the magnitude of the gradient.\n",
        "    '''\n",
        "    magnitude = np.sqrt(sobel_x**2 + sobel_y**2)\n",
        "    return magnitude\n",
        "\n",
        "\n",
        "def compute_gradient_direction(sobel_x, sobel_y):\n",
        "    '''\n",
        "    Compute the direction of the gradient given the x and y gradients. Angle must be in degrees in the range (-180; 180].\n",
        "    Use arctan2 function to compute the angle.\n",
        "\n",
        "    Inputs:\n",
        "        sobel_x: numpy array of the x gradient.\n",
        "        sobel_y: numpy array of the y gradient.\n",
        "\n",
        "    Returns:\n",
        "        gradient_direction: numpy array of the same shape as the input [0] with the direction of the gradient.\n",
        "    '''\n",
        "    gradient_direction = np.arctan2(sobel_y, sobel_x) * 180 / np.pi\n",
        "    return gradient_direction\n"
      ]
    },
    {
      "cell_type": "markdown",
      "metadata": {
        "id": "TU14MOC1UQAB"
      },
      "source": [
        "Небольшие тесты для функции `compute_gradient_direction`"
      ]
    },
    {
      "cell_type": "code",
      "execution_count": 10,
      "metadata": {
        "colab": {
          "base_uri": "https://localhost:8080/"
        },
        "id": "2r9pw_xrUQAB",
        "outputId": "0251c617-6a14-48db-d2dc-47fd32bc9f8f"
      },
      "outputs": [
        {
          "output_type": "stream",
          "name": "stdout",
          "text": [
            "Everything seems fine!\n"
          ]
        }
      ],
      "source": [
        "# do not change the code in the block below\n",
        "# __________start of block__________\n",
        "image = train_fmnist_data[7][0][0].numpy()\n",
        "gradients_two_loops = compute_sobel_gradients_two_loops(image)\n",
        "\n",
        "magnitudes = compute_gradient_magnitude(gradients_two_loops[0], gradients_two_loops[1])\n",
        "angles = compute_gradient_direction(gradients_two_loops[0], gradients_two_loops[1])\n",
        "assert np.all(magnitudes >= 0), \"Magnitudes should be non-negative\"\n",
        "assert np.all(angles > -180) and np.all(angles <= 180), \"Angles should be in the range (-180, 180]\"\n",
        "print(\"Everything seems fine!\")\n",
        "# __________end of block__________\n"
      ]
    },
    {
      "cell_type": "markdown",
      "metadata": {
        "id": "HSwzStpBUQAB"
      },
      "source": [
        "Пример визуализации итоговых границ, полученных с помощью фильтра Собеля:"
      ]
    },
    {
      "cell_type": "code",
      "execution_count": 11,
      "metadata": {
        "colab": {
          "base_uri": "https://localhost:8080/",
          "height": 304
        },
        "id": "ITFNhduzUQAB",
        "outputId": "ff44e164-cee9-4110-e487-ee783c82932f"
      },
      "outputs": [
        {
          "output_type": "execute_result",
          "data": {
            "text/plain": [
              "<matplotlib.image.AxesImage at 0x7dcbdafe5e90>"
            ]
          },
          "metadata": {},
          "execution_count": 11
        },
        {
          "output_type": "display_data",
          "data": {
            "text/plain": [
              "<Figure size 640x480 with 2 Axes>"
            ],
            "image/png": "[encoded data removed]"
          },
          "metadata": {}
        }
      ],
      "source": [
        "image = random.choice(train_fmnist_data)[0][0].numpy()\n",
        "magnitudes = compute_gradient_magnitude(*compute_sobel_gradients_two_loops(image))\n",
        "\n",
        "plt.subplot(1, 2, 1)\n",
        "plt.imshow(image)\n",
        "plt.subplot(1, 2, 2)\n",
        "plt.imshow(magnitudes)"
      ]
    },
    {
      "cell_type": "markdown",
      "metadata": {
        "id": "MsF0WLdEUQAB"
      },
      "source": [
        "#### Шаг 3. Упрощённый вариант HoG.\n",
        "Вам предстоит реализовать гистограмму ориентированных градиентов (HoG). В общем виде это происходит следующим образом:\n",
        "1. Перевод изображения в одноканальное. Если изображение цветное, то оно долнжо быть преобразовано в оттенки серого. Можно воспользоваться формулой из [Wiki](https://en.wikipedia.org/wiki/Grayscale):\n",
        "$$\n",
        "\\text{brightness}_{i, j} = \\text{Red}_{i, j} * 0.2126 + \\text{Green}_{i, j} * 0.7152 + \\text{Blue}_{i, j} * 0.0722,\n",
        "$$\n",
        "но для простоты просто будем усреднять все каналы.\n",
        "\n",
        "*Примечание: это далеко не единственный способ преобразования, и он может быть нелинейным. Подробности доступны по ссылке выше*.\n",
        "\n",
        "2. Вычисление градиентов изображения с помощью фитра Собеля.\n",
        "\n",
        "3. Определение направления и нормы градиента для каждого пикселя.\n",
        "\n",
        "4. Построение гистограмм направлений градиентов. Для этого изображение разбивается на непересекающиеся квадратные ячейки. Размер каждой ячейки задается параметром `pixels_per_cell`, который по умолчанию равен равным (8, 8). Для каждой ячейки изображения строится гистограмму направлений градиентов. Для этого:\n",
        "    * Каждое направление градиента будет отнесено к определенному бину (всего 9 бинов от -180 до 180).\n",
        "    * Для каждого бина все попавшие в нее нормы суммируются.\n",
        "    * Построенная гистограмма нормируется (чтобы сумма всех бинов была равна 1).\n",
        "5. Групповая нормализация гистограмм. Для большей адаптивности метода к изменениям освещенности производится нормировка. Подробнее о ней можно почитать [здесь](https://scikit-image.org/docs/dev/auto_examples/features_detection/plot_hog.html). В данном задании она производиться **не будет**.\n",
        "\n",
        "На этом этапе вам нужно выполнить только шаги 1-4. Обратите внимание, что **групповая нормализация** гистограмм не выполняется (этот шаг пропущен)."
      ]
    },
    {
      "cell_type": "code",
      "source": [
        "# import numpy as np\n",
        "# from scipy.ndimage import sobel\n",
        "\n",
        "# def compute_hog(image, pixels_per_cell=(7, 7), bins=9):\n",
        "#     if len(image.shape) == 3:\n",
        "#         image = np.mean(image, axis=2)\n",
        "\n",
        "#     image = image.astype(np.float32)\n",
        "#     gx = sobel(image, axis=1).astype(np.float32)\n",
        "#     gy = sobel(image, axis=0).astype(np.float32)\n",
        "\n",
        "#     magnitude = np.hypot(gx, gy)\n",
        "#     orientation = (np.rad2deg(np.arctan2(gy, gx)) + 180) % 180  # [0, 180)\n",
        "\n",
        "#     cell_h, cell_w = pixels_per_cell\n",
        "#     n_cells_y = image.shape[0] // cell_h\n",
        "#     n_cells_x = image.shape[1] // cell_w\n",
        "\n",
        "#     bin_size = 180 / bins\n",
        "#     histograms = np.zeros((n_cells_y, n_cells_x, bins), dtype=np.float32)\n",
        "\n",
        "#     for cy in range(n_cells_y):\n",
        "#         for cx in range(n_cells_x):\n",
        "#             cell_mag = magnitude[cy*cell_h:(cy+1)*cell_h, cx*cell_w:(cx+1)*cell_w].ravel()\n",
        "#             cell_ori = orientation[cy*cell_h:(cy+1)*cell_h, cx*cell_w:(cx+1)*cell_w].ravel()\n",
        "\n",
        "#             hist = np.zeros(bins, dtype=np.float32)\n",
        "#             for mag, angle in zip(cell_mag, cell_ori):\n",
        "#                 bin_f = angle / bin_size\n",
        "#                 bin_idx = int(bin_f) % bins\n",
        "#                 next_idx = (bin_idx + 1) % bins\n",
        "#                 ratio = bin_f - bin_idx\n",
        "\n",
        "#                 hist[bin_idx] += mag * (1 - ratio)\n",
        "#                 hist[next_idx] += mag * ratio\n",
        "\n",
        "#             norm = np.sum(hist)\n",
        "#             if norm > 1e-6:\n",
        "#                 hist /= norm\n",
        "\n",
        "#             histograms[cy, cx] = hist\n",
        "\n",
        "#     return histograms\n"
      ],
      "metadata": {
        "id": "cM_k-mRL1E0n"
      },
      "execution_count": 73,
      "outputs": []
    },
    {
      "cell_type": "code",
      "source": [
        "# def compute_hog(image, pixels_per_cell=(7, 7), bins=9):\n",
        "#     if len(image.shape) == 3:\n",
        "#         image = np.mean(image, axis=2)\n",
        "\n",
        "#     grad_x, grad_y = compute_sobel_gradients_two_loops(image)\n",
        "#     magnitude = compute_gradient_magnitude(grad_x, grad_y)\n",
        "#     direction = compute_gradient_direction(grad_x, grad_y)\n",
        "\n",
        "#     cell_h, cell_w = pixels_per_cell\n",
        "#     n_cells_y = image.shape[0] // cell_h\n",
        "#     n_cells_x = image.shape[1] // cell_w\n",
        "#     histograms = np.zeros((n_cells_y, n_cells_x, bins), dtype=np.float32)  # <-- float32\n",
        "\n",
        "#     bin_size = 360 / bins\n",
        "\n",
        "#     for cy in range(n_cells_y):\n",
        "#         for cx in range(n_cells_x):\n",
        "#             cell_mag = magnitude[cy*cell_h:(cy+1)*cell_h, cx*cell_w:(cx+1)*cell_w]\n",
        "#             cell_dir = direction[cy*cell_h:(cy+1)*cell_h, cx*cell_w:(cx+1)*cell_w]\n",
        "#             cell_hist = np.zeros(bins, dtype=np.float32)  # <-- float32\n",
        "\n",
        "#             for mag, ang in zip(cell_mag.flat, cell_dir.flat):\n",
        "#               angle = (ang + 180) % 360\n",
        "#               bin_idx = int(angle // bin_size)\n",
        "#               if bin_idx == bins:\n",
        "#                   bin_idx = bins - 1\n",
        "#               cell_hist[bin_idx] += mag\n",
        "\n",
        "\n",
        "#             sum_bins = np.sum(cell_hist)\n",
        "#             if sum_bins > 1e-6:\n",
        "#               cell_hist /= sum_bins\n",
        "\n",
        "#             histograms[cx, cy] = cell_hist\n",
        "\n",
        "#     return histograms\n"
      ],
      "metadata": {
        "id": "gS0R4EpMWEPO"
      },
      "execution_count": 79,
      "outputs": []
    },
    {
      "cell_type": "code",
      "source": [
        "cell_size = 7\n",
        "def compute_hog(image, pixels_per_cell=(cell_size, cell_size), bins=9):\n",
        "    if len(image.shape) == 3:\n",
        "        image = np.mean(image, axis=2)\n",
        "\n",
        "    # 2. Градиенты Собеля\n",
        "    grad_x, grad_y = compute_sobel_gradients_two_loops(image)\n",
        "\n",
        "\n",
        "    magnitude = compute_gradient_magnitude(grad_x, grad_y)\n",
        "    direction = compute_gradient_direction(grad_x, grad_y)\n",
        "\n",
        "\n",
        "    cell_h, cell_w = pixels_per_cell\n",
        "\n",
        "\n",
        "    n_cells_x = image.shape[1] // cell_w\n",
        "    n_cells_y = image.shape[0] // cell_h\n",
        "\n",
        "    histograms = np.zeros((n_cells_y, n_cells_x, bins), dtype=np.float64)\n",
        "\n",
        "    bin_size = 360 / bins\n",
        "\n",
        "    for cy in range(n_cells_y):\n",
        "        for cx in range(n_cells_x):\n",
        "            cell_magnitudes = magnitude[cy*cell_h : (cy+1)*cell_h, cx*cell_w : (cx+1)*cell_w]\n",
        "            cell_directions = direction[cy*cell_h : (cy+1)*cell_h, cx*cell_w : (cx+1)*cell_w]\n",
        "\n",
        "            bins_mas = np.zeros(bins, dtype=np.float64)\n",
        "\n",
        "            for y_local in range(cell_h):\n",
        "                for x_local in range(cell_w):\n",
        "                    dir_cell = cell_directions[y_local, x_local]\n",
        "                    mag_cell   = cell_magnitudes[y_local, x_local]\n",
        "\n",
        "                    # так как здесь жесткое разделение, надо исключить вариант, когда число, сильно близкое к bin+1 попадает в bin\n",
        "                    angle_0_360 = (dir_cell + 180.0) % 360.0 - 1e-5\n",
        "\n",
        "                    bin_idx = int(angle_0_360 // bin_size)\n",
        "                    if bin_idx == bins:\n",
        "                        bin_idx = bins - 1\n",
        "\n",
        "                    bins_mas[bin_idx] += mag_cell\n",
        "\n",
        "            sum_bins = np.sum(bins_mas)\n",
        "            if sum_bins > 1e-6:\n",
        "                bins_mas /= sum_bins\n",
        "\n",
        "            histograms[cy, cx, :] = bins_mas\n",
        "\n",
        "    return histograms"
      ],
      "metadata": {
        "id": "VsD0rcWOP602"
      },
      "execution_count": 35,
      "outputs": []
    },
    {
      "cell_type": "code",
      "execution_count": 77,
      "metadata": {
        "id": "cw0goCtbUQAC"
      },
      "outputs": [],
      "source": [
        "# cell_size = 7\n",
        "# def compute_hog(image, pixels_per_cell=(cell_size, cell_size), bins=9):\n",
        "#     # 1. Convert the image to grayscale if it's not already (assuming the image is in RGB or BGR)\n",
        "#     if len(image.shape) == 3:\n",
        "#         image = np.mean(image, axis=2)  # Simple averaging to convert to grayscale\n",
        "\n",
        "#     # 2. Compute gradients with Sobel filter\n",
        "#     gradient_x, gradient_y = compute_sobel_gradients_two_loops(image)\n",
        "\n",
        "#     # 3. Compute gradient magnitude and direction\n",
        "#     magnitude = compute_gradient_magnitude(gradient_x, gradient_y)\n",
        "#     direction = compute_gradient_direction(gradient_x, gradient_y)\n",
        "\n",
        "#     # 4. Create histograms of gradient directions for each cell\n",
        "#     cell_height, cell_width = pixels_per_cell\n",
        "#     n_cells_x = image.shape[1] // cell_width\n",
        "#     n_cells_y = image.shape[0] // cell_height\n",
        "\n",
        "#     histograms = np.zeros((n_cells_y, n_cells_x, bins), dtype=np.float64)\n",
        "#     bin_interval = 360 / bins\n",
        "\n",
        "#     for i in range(n_cells_y):\n",
        "#         for j in range(n_cells_x):\n",
        "#             bins_mas = np.zeros(bins, dtype=np.float64)\n",
        "#             # Вырежем кусочки, с которыми будем работать\n",
        "#             magnitude_cell = magnitude[i*cell_height:(i+1)*cell_height, j*cell_width: (j+1)*cell_width]\n",
        "#             direction_cell = direction[i*cell_height:(i+1)*cell_height, j*cell_width: (j+1)*cell_width]\n",
        "\n",
        "#             for y in range(cell_height):\n",
        "#               for x in range(cell_width):\n",
        "#                 dir_cell = direction_cell[y][x] #% 180\n",
        "#                 bin_num = int( dir_cell // bin_interval) % bins\n",
        "#                 bin_num_next = (bin_num+1) % bins\n",
        "#                 # bin_num = int((direction_cell[y][x] + 180) // bin_interval) % bins\n",
        "#                 # bin_num_next = (bin_num+1) % bins\n",
        "\n",
        "\n",
        "#                 bin_center = (bin_num + 0.5) * bin_interval\n",
        "#                 part_for_bins = (direction_cell[y][x] - bin_center) / bin_interval\n",
        "#                 # part_for_bins = (dir_cell % bin_interval) / bin_interval\n",
        "\n",
        "#                 # part_for_bins = ((direction_cell[y][x] + 180) % bin_interval) / bin_interval\n",
        "#                 bins_mas[bin_num] += (1-part_for_bins) * magnitude_cell[y][x]\n",
        "#                 bins_mas[bin_num_next] += part_for_bins * magnitude_cell[y][x]\n",
        "\n",
        "#             hist_sum = np.sum(bins_mas)\n",
        "#             if hist_sum > 0:\n",
        "#               bins_mas /= hist_sum\n",
        "#             histograms[i, j] = bins_mas\n",
        "#     return histograms"
      ]
    },
    {
      "cell_type": "markdown",
      "metadata": {
        "id": "8ch-Yg5EUQAC"
      },
      "source": [
        "Для запуска тестов ниже файлы `hog_data.npy` и `image_data.npy` из репозитория должны быть доступны в той же директории, что и ноутбук. Вы можете скачать их в репозитории."
      ]
    },
    {
      "cell_type": "code",
      "execution_count": 36,
      "metadata": {
        "id": "YaEqjLPOUQAC",
        "colab": {
          "base_uri": "https://localhost:8080/",
          "height": 1000
        },
        "outputId": "b7e3732d-65e6-444b-d974-d2b8d0ea589b"
      },
      "outputs": [
        {
          "output_type": "stream",
          "name": "stdout",
          "text": [
            "Everything seems fine!\n",
            "[[[0.00000000e+00 0.00000000e+00 0.00000000e+00 0.00000000e+00\n",
            "   0.00000000e+00 0.00000000e+00 0.00000000e+00 0.00000000e+00\n",
            "   0.00000000e+00]\n",
            "  [0.00000000e+00 0.00000000e+00 0.00000000e+00 0.00000000e+00\n",
            "   2.43804737e-02 3.89217685e-01 5.82091941e-01 4.30989957e-03\n",
            "   0.00000000e+00]\n",
            "  [0.00000000e+00 0.00000000e+00 0.00000000e+00 0.00000000e+00\n",
            "   1.06459828e-03 2.46258708e-01 5.61750105e-01 1.90216857e-01\n",
            "   7.09732242e-04]\n",
            "  [0.00000000e+00 5.84087630e-04 0.00000000e+00 0.00000000e+00\n",
            "   0.00000000e+00 2.26893071e-01 2.77854922e-01 1.99968988e-01\n",
            "   2.94698932e-01]]\n",
            "\n",
            " [[0.00000000e+00 0.00000000e+00 1.38636579e-01 2.48000650e-01\n",
            "   1.75362936e-01 1.24000321e-01 3.13999515e-01 0.00000000e+00\n",
            "   0.00000000e+00]\n",
            "  [6.76958220e-02 9.75675114e-02 6.76084862e-02 8.52024882e-02\n",
            "   9.50784863e-02 3.28482343e-01 7.17742311e-02 1.73002278e-01\n",
            "   1.35883542e-02]\n",
            "  [2.57564871e-03 1.94235963e-01 4.42662599e-01 2.33169525e-02\n",
            "   1.29611540e-01 9.91493123e-02 9.57736089e-02 3.45602742e-04\n",
            "   1.23287733e-02]\n",
            "  [1.87153146e-01 1.31943877e-01 1.33074086e-01 5.33264022e-03\n",
            "   1.00096494e-01 1.67712422e-01 6.98779341e-02 0.00000000e+00\n",
            "   2.04809400e-01]]\n",
            "\n",
            " [[3.91293588e-02 7.20406952e-04 0.00000000e+00 7.20406895e-04\n",
            "   2.10415251e-01 3.35748499e-01 3.27908396e-01 1.64291662e-03\n",
            "   8.37147645e-02]\n",
            "  [2.28534689e-02 8.05742047e-05 5.19195491e-02 2.58759835e-01\n",
            "   1.44054761e-01 3.44769406e-02 8.37850411e-02 4.03500085e-01\n",
            "   5.69745651e-04]\n",
            "  [1.90425489e-01 2.41289174e-01 1.17021005e-02 1.01093346e-03\n",
            "   2.09672184e-02 2.82658119e-01 7.71465256e-02 1.15238161e-01\n",
            "   5.95622785e-02]\n",
            "  [4.63680570e-01 8.61329925e-02 4.14460308e-02 4.63902032e-02\n",
            "   3.00455955e-01 0.00000000e+00 1.52865381e-02 3.99220339e-02\n",
            "   6.68567644e-03]]\n",
            "\n",
            " [[4.74455813e-02 0.00000000e+00 4.40297399e-01 6.10386215e-02\n",
            "   1.69334046e-01 8.26079952e-02 1.49455500e-01 4.98208567e-02\n",
            "   0.00000000e+00]\n",
            "  [2.64188019e-02 2.50849131e-01 3.25806651e-01 0.00000000e+00\n",
            "   3.71300435e-02 1.76224382e-01 5.54507975e-02 4.62507172e-02\n",
            "   8.18694759e-02]\n",
            "  [8.63001795e-01 1.05660442e-01 3.95865086e-03 9.50111069e-03\n",
            "   1.45653933e-02 0.00000000e+00 4.84993408e-04 3.42942128e-04\n",
            "   2.48467246e-03]\n",
            "  [2.72073065e-01 1.15912255e-01 4.32366994e-02 7.15339239e-02\n",
            "   3.68184149e-01 0.00000000e+00 9.93303891e-04 0.00000000e+00\n",
            "   1.28066603e-01]]]\n",
            "/////////////////\n",
            "[[[0.00000000e+00 0.00000000e+00 0.00000000e+00 0.00000000e+00\n",
            "   0.00000000e+00 0.00000000e+00 0.00000000e+00 0.00000000e+00\n",
            "   0.00000000e+00]\n",
            "  [0.00000000e+00 0.00000000e+00 0.00000000e+00 0.00000000e+00\n",
            "   2.43804741e-02 3.89217686e-01 5.82091940e-01 4.30989965e-03\n",
            "   0.00000000e+00]\n",
            "  [0.00000000e+00 0.00000000e+00 0.00000000e+00 0.00000000e+00\n",
            "   1.06459831e-03 2.46258710e-01 5.61750105e-01 1.90216854e-01\n",
            "   7.09732234e-04]\n",
            "  [0.00000000e+00 5.84087633e-04 0.00000000e+00 0.00000000e+00\n",
            "   0.00000000e+00 2.26893071e-01 2.77854920e-01 1.99968990e-01\n",
            "   2.94698931e-01]]\n",
            "\n",
            " [[0.00000000e+00 0.00000000e+00 1.38636576e-01 2.48000647e-01\n",
            "   1.75362939e-01 1.24000323e-01 3.13999515e-01 0.00000000e+00\n",
            "   0.00000000e+00]\n",
            "  [6.76958231e-02 9.75675085e-02 6.76084832e-02 8.52024876e-02\n",
            "   9.50784878e-02 3.28482343e-01 7.17742324e-02 1.73002280e-01\n",
            "   1.35883543e-02]\n",
            "  [2.57564866e-03 1.94235964e-01 4.42662605e-01 2.33169522e-02\n",
            "   1.29611538e-01 9.91493106e-02 9.57736062e-02 3.45602741e-04\n",
            "   1.23287732e-02]\n",
            "  [1.87153148e-01 1.31943877e-01 1.33074084e-01 5.33264074e-03\n",
            "   1.00096496e-01 1.67712422e-01 6.98779324e-02 0.00000000e+00\n",
            "   2.04809401e-01]]\n",
            "\n",
            " [[3.91293582e-02 7.20406928e-04 0.00000000e+00 7.20406900e-04\n",
            "   2.10415249e-01 3.35748500e-01 3.27908391e-01 1.64291661e-03\n",
            "   8.37147712e-02]\n",
            "  [2.28534692e-02 8.05742043e-05 5.19195505e-02 2.58759834e-01\n",
            "   1.44054757e-01 3.44769414e-02 8.37850426e-02 4.03500086e-01\n",
            "   5.69745649e-04]\n",
            "  [1.90425489e-01 2.41289180e-01 1.17020991e-02 1.01093346e-03\n",
            "   2.09672184e-02 2.82658119e-01 7.71465255e-02 1.15238160e-01\n",
            "   5.95622759e-02]\n",
            "  [4.63680569e-01 8.61329899e-02 4.14460315e-02 4.63902048e-02\n",
            "   3.00455955e-01 0.00000000e+00 1.52865391e-02 3.99220342e-02\n",
            "   6.68567624e-03]]\n",
            "\n",
            " [[4.74455802e-02 0.00000000e+00 4.40297394e-01 6.10386224e-02\n",
            "   1.69334050e-01 8.26079965e-02 1.49455502e-01 4.98208554e-02\n",
            "   0.00000000e+00]\n",
            "  [2.64187999e-02 2.50849132e-01 3.25806650e-01 0.00000000e+00\n",
            "   3.71300462e-02 1.76224381e-01 5.54507992e-02 4.62507169e-02\n",
            "   8.18694753e-02]\n",
            "  [8.63001800e-01 1.05660441e-01 3.95865075e-03 9.50110795e-03\n",
            "   1.45653928e-02 0.00000000e+00 4.84993402e-04 3.42942123e-04\n",
            "   2.48467237e-03]\n",
            "  [2.72073065e-01 1.15912255e-01 4.32366980e-02 7.15339244e-02\n",
            "   3.68184149e-01 0.00000000e+00 9.93303887e-04 0.00000000e+00\n",
            "   1.28066604e-01]]]\n",
            "[[[0.00000000e+00 0.00000000e+00 0.00000000e+00 0.00000000e+00\n",
            "   0.00000000e+00 0.00000000e+00 0.00000000e+00 0.00000000e+00\n",
            "   0.00000000e+00]\n",
            "  [3.93397320e-02 1.43256024e-02 1.79319804e-02 2.65161525e-02\n",
            "   4.96322398e-01 2.08108811e-01 1.19910361e-01 5.75932620e-02\n",
            "   1.99517010e-02]\n",
            "  [7.03461301e-02 1.36224516e-02 2.14878163e-02 0.00000000e+00\n",
            "   0.00000000e+00 0.00000000e+00 1.78866600e-01 2.22105771e-01\n",
            "   4.93571232e-01]\n",
            "  [0.00000000e+00 0.00000000e+00 0.00000000e+00 0.00000000e+00\n",
            "   0.00000000e+00 0.00000000e+00 0.00000000e+00 0.00000000e+00\n",
            "   0.00000000e+00]]\n",
            "\n",
            " [[0.00000000e+00 0.00000000e+00 0.00000000e+00 0.00000000e+00\n",
            "   0.00000000e+00 0.00000000e+00 0.00000000e+00 0.00000000e+00\n",
            "   0.00000000e+00]\n",
            "  [3.34291254e-01 3.34059162e-02 0.00000000e+00 3.01407397e-02\n",
            "   5.20176918e-01 3.65108852e-02 0.00000000e+00 0.00000000e+00\n",
            "   4.54742868e-02]\n",
            "  [2.56096533e-01 5.43766374e-03 0.00000000e+00 7.06893033e-02\n",
            "   3.50737104e-01 0.00000000e+00 0.00000000e+00 2.70872992e-02\n",
            "   2.89952096e-01]\n",
            "  [0.00000000e+00 0.00000000e+00 0.00000000e+00 0.00000000e+00\n",
            "   0.00000000e+00 0.00000000e+00 0.00000000e+00 0.00000000e+00\n",
            "   0.00000000e+00]]\n",
            "\n",
            " [[0.00000000e+00 0.00000000e+00 0.00000000e+00 0.00000000e+00\n",
            "   0.00000000e+00 0.00000000e+00 0.00000000e+00 0.00000000e+00\n",
            "   0.00000000e+00]\n",
            "  [5.26962974e-02 0.00000000e+00 3.06564850e-03 7.61085712e-02\n",
            "   4.32269213e-01 0.00000000e+00 0.00000000e+00 1.14871172e-02\n",
            "   4.24373152e-01]\n",
            "  [3.29859693e-01 2.20360775e-04 0.00000000e+00 6.51090575e-03\n",
            "   4.34110984e-01 4.69928549e-02 3.87846063e-03 0.00000000e+00\n",
            "   1.78426740e-01]\n",
            "  [0.00000000e+00 0.00000000e+00 0.00000000e+00 0.00000000e+00\n",
            "   0.00000000e+00 0.00000000e+00 0.00000000e+00 0.00000000e+00\n",
            "   0.00000000e+00]]\n",
            "\n",
            " [[0.00000000e+00 0.00000000e+00 0.00000000e+00 0.00000000e+00\n",
            "   0.00000000e+00 0.00000000e+00 0.00000000e+00 0.00000000e+00\n",
            "   0.00000000e+00]\n",
            "  [3.45964536e-02 4.94867570e-02 4.79207964e-02 1.99071991e-01\n",
            "   4.18902118e-01 9.43705510e-04 7.95810889e-04 0.00000000e+00\n",
            "   2.48282367e-01]\n",
            "  [4.08148400e-01 5.65454911e-02 1.14624030e-01 3.70834751e-02\n",
            "   2.63341244e-01 1.35492056e-02 0.00000000e+00 0.00000000e+00\n",
            "   1.06708154e-01]\n",
            "  [0.00000000e+00 0.00000000e+00 0.00000000e+00 0.00000000e+00\n",
            "   0.00000000e+00 0.00000000e+00 0.00000000e+00 0.00000000e+00\n",
            "   0.00000000e+00]]]\n",
            "/////////////////\n",
            "[[[0.00000000e+00 0.00000000e+00 0.00000000e+00 0.00000000e+00\n",
            "   0.00000000e+00 0.00000000e+00 0.00000000e+00 0.00000000e+00\n",
            "   0.00000000e+00]\n",
            "  [2.77874007e-02 1.43255997e-02 1.79319810e-02 2.65161547e-02\n",
            "   4.96322397e-01 2.08108809e-01 1.19910362e-01 5.75932609e-02\n",
            "   3.15040353e-02]\n",
            "  [7.03461363e-02 1.36224517e-02 2.14878157e-02 0.00000000e+00\n",
            "   0.00000000e+00 0.00000000e+00 1.78866601e-01 2.22105773e-01\n",
            "   4.93571223e-01]\n",
            "  [0.00000000e+00 0.00000000e+00 0.00000000e+00 0.00000000e+00\n",
            "   0.00000000e+00 0.00000000e+00 0.00000000e+00 0.00000000e+00\n",
            "   0.00000000e+00]]\n",
            "\n",
            " [[0.00000000e+00 0.00000000e+00 0.00000000e+00 0.00000000e+00\n",
            "   0.00000000e+00 0.00000000e+00 0.00000000e+00 0.00000000e+00\n",
            "   0.00000000e+00]\n",
            "  [3.34291253e-01 3.34059133e-02 0.00000000e+00 3.01407423e-02\n",
            "   5.20176920e-01 3.65108843e-02 0.00000000e+00 0.00000000e+00\n",
            "   4.54742870e-02]\n",
            "  [2.56096530e-01 5.43766253e-03 0.00000000e+00 7.06893032e-02\n",
            "   3.50737106e-01 0.00000000e+00 0.00000000e+00 2.70873005e-02\n",
            "   2.89952098e-01]\n",
            "  [0.00000000e+00 0.00000000e+00 0.00000000e+00 0.00000000e+00\n",
            "   0.00000000e+00 0.00000000e+00 0.00000000e+00 0.00000000e+00\n",
            "   0.00000000e+00]]\n",
            "\n",
            " [[0.00000000e+00 0.00000000e+00 0.00000000e+00 0.00000000e+00\n",
            "   0.00000000e+00 0.00000000e+00 0.00000000e+00 0.00000000e+00\n",
            "   0.00000000e+00]\n",
            "  [5.26962951e-02 0.00000000e+00 3.06564806e-03 7.61085723e-02\n",
            "   4.32269211e-01 0.00000000e+00 0.00000000e+00 1.14871185e-02\n",
            "   4.24373155e-01]\n",
            "  [3.29859696e-01 2.20360776e-04 0.00000000e+00 6.51090580e-03\n",
            "   4.34110986e-01 4.69928555e-02 3.87846115e-03 0.00000000e+00\n",
            "   1.78426734e-01]\n",
            "  [0.00000000e+00 0.00000000e+00 0.00000000e+00 0.00000000e+00\n",
            "   0.00000000e+00 0.00000000e+00 0.00000000e+00 0.00000000e+00\n",
            "   0.00000000e+00]]\n",
            "\n",
            " [[0.00000000e+00 0.00000000e+00 0.00000000e+00 0.00000000e+00\n",
            "   0.00000000e+00 0.00000000e+00 0.00000000e+00 0.00000000e+00\n",
            "   0.00000000e+00]\n",
            "  [3.45964540e-02 4.94867577e-02 4.79207965e-02 1.99071991e-01\n",
            "   4.18902119e-01 9.43705493e-04 7.95810878e-04 0.00000000e+00\n",
            "   2.48282365e-01]\n",
            "  [4.08148399e-01 5.65454906e-02 1.14624027e-01 3.70834749e-02\n",
            "   2.63341245e-01 1.35492050e-02 0.00000000e+00 0.00000000e+00\n",
            "   1.06708157e-01]\n",
            "  [0.00000000e+00 0.00000000e+00 0.00000000e+00 0.00000000e+00\n",
            "   0.00000000e+00 0.00000000e+00 0.00000000e+00 0.00000000e+00\n",
            "   0.00000000e+00]]]\n"
          ]
        },
        {
          "output_type": "error",
          "ename": "AssertionError",
          "evalue": "hog should be the same",
          "traceback": [
            "\u001b[0;31m---------------------------------------------------------------------------\u001b[0m",
            "\u001b[0;31mAssertionError\u001b[0m                            Traceback (most recent call last)",
            "\u001b[0;32m<ipython-input-36-adc25db8e981>\u001b[0m in \u001b[0;36m<cell line: 0>\u001b[0;34m()\u001b[0m\n\u001b[1;32m     17\u001b[0m     \u001b[0mprint\u001b[0m\u001b[0;34m(\u001b[0m\u001b[0;34m\"/////////////////\"\u001b[0m\u001b[0;34m)\u001b[0m\u001b[0;34m\u001b[0m\u001b[0;34m\u001b[0m\u001b[0m\n\u001b[1;32m     18\u001b[0m     \u001b[0mprint\u001b[0m\u001b[0;34m(\u001b[0m\u001b[0mtest_hog\u001b[0m\u001b[0;34m)\u001b[0m\u001b[0;34m\u001b[0m\u001b[0;34m\u001b[0m\u001b[0m\n\u001b[0;32m---> 19\u001b[0;31m     \u001b[0;32massert\u001b[0m \u001b[0mnp\u001b[0m\u001b[0;34m.\u001b[0m\u001b[0mallclose\u001b[0m\u001b[0;34m(\u001b[0m\u001b[0mhog\u001b[0m\u001b[0;34m,\u001b[0m \u001b[0mtest_hog\u001b[0m\u001b[0;34m)\u001b[0m\u001b[0;34m,\u001b[0m \u001b[0;34m\"hog should be the same\"\u001b[0m\u001b[0;34m\u001b[0m\u001b[0;34m\u001b[0m\u001b[0m\n\u001b[0m\u001b[1;32m     20\u001b[0m \u001b[0;34m\u001b[0m\u001b[0m\n\u001b[1;32m     21\u001b[0m \u001b[0;31m# __________end of block__________\u001b[0m\u001b[0;34m\u001b[0m\u001b[0;34m\u001b[0m\u001b[0m\n",
            "\u001b[0;31mAssertionError\u001b[0m: hog should be the same"
          ]
        }
      ],
      "source": [
        "# do not change the code in the block below\n",
        "# __________start of block__________\n",
        "image = random.choice(train_fmnist_data)[0][0].numpy()\n",
        "\n",
        "hog = compute_hog(image)\n",
        "assert hog.shape == (4, 4, 9), \"hog should have shape (4, 4, 9) for the FashionMNIST image with default parameters\"\n",
        "print(\"Everything seems fine!\")\n",
        "\n",
        "assert os.path.exists(\"/content/hog_data.npy\") and os.path.exists(\"/content/image_data.npy\"), \"hog_data.npy and image_data.npy should be in the same directory as the notebook\"\n",
        "with open(\"/content/hog_data.npy\", \"rb\") as f:\n",
        "    hog_data = np.load(f, allow_pickle=True)\n",
        "with open(\"/content/image_data.npy\", \"rb\") as f:\n",
        "    image_data = np.load(f, allow_pickle=True)\n",
        "for test_image, test_hog in zip(image_data, hog_data):\n",
        "    hog = compute_hog(test_image)\n",
        "    print(hog)\n",
        "    print(\"/////////////////\")\n",
        "    print(test_hog)\n",
        "    assert np.allclose(hog, test_hog), \"hog should be the same\"\n",
        "\n",
        "# __________end of block__________\n"
      ]
    },
    {
      "cell_type": "code",
      "source": [
        "import matplotlib.pyplot as plt\n",
        "import numpy as np\n",
        "import random\n",
        "from mpl_toolkits.axes_grid1 import make_axes_locatable\n",
        "\n",
        "# Выбираем тестовое изображение\n",
        "image = random.choice(train_fmnist_data)[0][0].numpy()\n",
        "\n",
        "# Вычисляем HOG и промежуточные результаты\n",
        "gradient_x, gradient_y = compute_sobel_gradients_two_loops(image)\n",
        "magnitude = compute_gradient_magnitude(gradient_x, gradient_y)\n",
        "direction = compute_gradient_direction(gradient_x, gradient_y)\n",
        "hog = compute_hog(image)\n",
        "\n",
        "# Загружаем эталонные данные\n",
        "with open(\"/content/hog_data.npy\", \"rb\") as f:\n",
        "    hog_data = np.load(f, allow_pickle=True)\n",
        "with open(\"/content/image_data.npy\", \"rb\") as f:\n",
        "    image_data = np.load(f, allow_pickle=True)\n",
        "\n",
        "# Находим соответствующий эталон для выбранного изображения\n",
        "test_idx = np.where([np.allclose(image, test_img) for test_img in image_data])[0][0]\n",
        "test_hog = hog_data[test_idx]\n",
        "\n",
        "# Создаем большую фигуру для визуализации\n",
        "plt.figure(figsize=(18, 12))\n",
        "\n",
        "# 1. Исходное изображение\n",
        "plt.subplot(3, 4, 1)\n",
        "plt.imshow(image, cmap='gray')\n",
        "plt.title(\"Исходное изображение\")\n",
        "plt.axis('off')\n",
        "\n",
        "# 2. Gradient X\n",
        "plt.subplot(3, 4, 2)\n",
        "im = plt.imshow(gradient_x, cmap='seismic')\n",
        "plt.title(\"Gradient X\")\n",
        "plt.axis('off')\n",
        "divider = make_axes_locatable(plt.gca())\n",
        "cax = divider.append_axes(\"right\", size=\"5%\", pad=0.05)\n",
        "plt.colorbar(im, cax=cax)\n",
        "\n",
        "# 3. Gradient Y\n",
        "plt.subplot(3, 4, 3)\n",
        "im = plt.imshow(gradient_y, cmap='seismic')\n",
        "plt.title(\"Gradient Y\")\n",
        "plt.axis('off')\n",
        "divider = make_axes_locatable(plt.gca())\n",
        "cax = divider.append_axes(\"right\", size=\"5%\", pad=0.05)\n",
        "plt.colorbar(im, cax=cax)\n",
        "\n",
        "# 4. Gradient Magnitude\n",
        "plt.subplot(3, 4, 4)\n",
        "im = plt.imshow(magnitude, cmap='hot')\n",
        "plt.title(\"Gradient Magnitude\")\n",
        "plt.axis('off')\n",
        "divider = make_axes_locatable(plt.gca())\n",
        "cax = divider.append_axes(\"right\", size=\"5%\", pad=0.05)\n",
        "plt.colorbar(im, cax=cax)\n",
        "\n",
        "# 5. Gradient Direction\n",
        "plt.subplot(3, 4, 5)\n",
        "im = plt.imshow(direction, cmap='hsv')\n",
        "plt.title(\"Gradient Direction (degrees)\")\n",
        "plt.axis('off')\n",
        "divider = make_axes_locatable(plt.gca())\n",
        "cax = divider.append_axes(\"right\", size=\"5%\", pad=0.05)\n",
        "plt.colorbar(im, cax=cax)\n",
        "\n",
        "# 6. Наша HOG визуализация (сумма по бинам)\n",
        "plt.subplot(3, 4, 6)\n",
        "im = plt.imshow(hog.sum(axis=-1), cmap='hot')\n",
        "plt.title(\"Наша HOG (сумма по бинам)\")\n",
        "plt.axis('off')\n",
        "divider = make_axes_locatable(plt.gca())\n",
        "cax = divider.append_axes(\"right\", size=\"5%\", pad=0.05)\n",
        "plt.colorbar(im, cax=cax)\n",
        "\n",
        "# 7. Эталонная HOG (сумма по бинам)\n",
        "plt.subplot(3, 4, 7)\n",
        "im = plt.imshow(test_hog.sum(axis=-1), cmap='hot')\n",
        "plt.title(\"Эталонная HOG (сумма по бинам)\")\n",
        "plt.axis('off')\n",
        "divider = make_axes_locatable(plt.gca())\n",
        "cax = divider.append_axes(\"right\", size=\"5%\", pad=0.05)\n",
        "plt.colorbar(im, cax=cax)\n",
        "\n",
        "# 8. Разница между HOG\n",
        "plt.subplot(3, 4, 8)\n",
        "diff = hog.sum(axis=-1) - test_hog.sum(axis=-1)\n",
        "im = plt.imshow(diff, cmap='coolwarm', vmin=-0.5, vmax=0.5)\n",
        "plt.title(\"Разница (Наш - Эталон)\")\n",
        "plt.axis('off')\n",
        "divider = make_axes_locatable(plt.gca())\n",
        "cax = divider.append_axes(\"right\", size=\"5%\", pad=0.05)\n",
        "plt.colorbar(im, cax=cax)\n",
        "\n",
        "# 9-12. Сравнение отдельных бинов\n",
        "for i in range(3):\n",
        "    plt.subplot(3, 4, 9+i)\n",
        "    im = plt.imshow(hog[:,:,i], cmap='hot')\n",
        "    plt.title(f\"Наш бин {i}\")\n",
        "    plt.axis('off')\n",
        "    divider = make_axes_locatable(plt.gca())\n",
        "    cax = divider.append_axes(\"right\", size=\"5%\", pad=0.05)\n",
        "    plt.colorbar(im, cax=cax)\n",
        "\n",
        "    plt.subplot(3, 4, 12+i)\n",
        "    im = plt.imshow(test_hog[:,:,i], cmap='hot')\n",
        "    plt.title(f\"Эталонный бин {i}\")\n",
        "    plt.axis('off')\n",
        "    divider = make_axes_locatable(plt.gca())\n",
        "    cax = divider.append_axes(\"right\", size=\"5%\", pad=0.05)\n",
        "    plt.colorbar(im, cax=cax)\n",
        "\n",
        "plt.tight_layout()\n",
        "plt.show()\n",
        "\n",
        "# Численное сравнение\n",
        "print(\"\\nЧисленные различия:\")\n",
        "print(f\"Максимальная разница: {np.max(np.abs(hog - test_hog))}\")\n",
        "print(f\"Средняя разница: {np.mean(np.abs(hog - test_hog))}\")\n",
        "print(f\"Разница по бинам:\")\n",
        "for i in range(9):\n",
        "    print(f\"Бин {i}: max_diff={np.max(np.abs(hog[:,:,i] - test_hog[:,:,i])):.4f}, mean_diff={np.mean(np.abs(hog[:,:,i] - test_hog[:,:,i])):.4f}\")\n",
        "\n",
        "# Проверка формы\n",
        "assert hog.shape == (4, 4, 9), \"hog should have shape (4, 4, 9) for the FashionMNIST image with default parameters\"\n",
        "print(\"\\nEverything seems fine with the shape!\")\n",
        "\n",
        "# Проверка соответствия эталону\n",
        "try:\n",
        "    assert np.allclose(hog, test_hog, atol=1e-5), \"hog should be the same\"\n",
        "    print(\"HOG полностью совпадает с эталоном!\")\n",
        "except AssertionError as e:\n",
        "    print(f\"Обнаружены различия: {e}\")"
      ],
      "metadata": {
        "id": "9EZbhxn2Pul3",
        "outputId": "aa893006-fd4b-4d5e-9328-ca89720dd148",
        "colab": {
          "base_uri": "https://localhost:8080/",
          "height": 228
        }
      },
      "execution_count": 125,
      "outputs": [
        {
          "output_type": "error",
          "ename": "IndexError",
          "evalue": "index 0 is out of bounds for axis 0 with size 0",
          "traceback": [
            "\u001b[0;31m---------------------------------------------------------------------------\u001b[0m",
            "\u001b[0;31mIndexError\u001b[0m                                Traceback (most recent call last)",
            "\u001b[0;32m<ipython-input-125-d1054e84ad87>\u001b[0m in \u001b[0;36m<cell line: 0>\u001b[0;34m()\u001b[0m\n\u001b[1;32m     20\u001b[0m \u001b[0;34m\u001b[0m\u001b[0m\n\u001b[1;32m     21\u001b[0m \u001b[0;31m# Находим соответствующий эталон для выбранного изображения\u001b[0m\u001b[0;34m\u001b[0m\u001b[0;34m\u001b[0m\u001b[0m\n\u001b[0;32m---> 22\u001b[0;31m \u001b[0mtest_idx\u001b[0m \u001b[0;34m=\u001b[0m \u001b[0mnp\u001b[0m\u001b[0;34m.\u001b[0m\u001b[0mwhere\u001b[0m\u001b[0;34m(\u001b[0m\u001b[0;34m[\u001b[0m\u001b[0mnp\u001b[0m\u001b[0;34m.\u001b[0m\u001b[0mallclose\u001b[0m\u001b[0;34m(\u001b[0m\u001b[0mimage\u001b[0m\u001b[0;34m,\u001b[0m \u001b[0mtest_img\u001b[0m\u001b[0;34m)\u001b[0m \u001b[0;32mfor\u001b[0m \u001b[0mtest_img\u001b[0m \u001b[0;32min\u001b[0m \u001b[0mimage_data\u001b[0m\u001b[0;34m]\u001b[0m\u001b[0;34m)\u001b[0m\u001b[0;34m[\u001b[0m\u001b[0;36m0\u001b[0m\u001b[0;34m]\u001b[0m\u001b[0;34m[\u001b[0m\u001b[0;36m0\u001b[0m\u001b[0;34m]\u001b[0m\u001b[0;34m\u001b[0m\u001b[0;34m\u001b[0m\u001b[0m\n\u001b[0m\u001b[1;32m     23\u001b[0m \u001b[0mtest_hog\u001b[0m \u001b[0;34m=\u001b[0m \u001b[0mhog_data\u001b[0m\u001b[0;34m[\u001b[0m\u001b[0mtest_idx\u001b[0m\u001b[0;34m]\u001b[0m\u001b[0;34m\u001b[0m\u001b[0;34m\u001b[0m\u001b[0m\n\u001b[1;32m     24\u001b[0m \u001b[0;34m\u001b[0m\u001b[0m\n",
            "\u001b[0;31mIndexError\u001b[0m: index 0 is out of bounds for axis 0 with size 0"
          ]
        }
      ]
    },
    {
      "cell_type": "markdown",
      "metadata": {
        "id": "X6zdJtNaUQAC"
      },
      "source": [
        "Визуализация полученных гистограмм. Сетка выглядит чуть сдвинутой из-за существенного размера пискеля, это нормально."
      ]
    },
    {
      "cell_type": "code",
      "execution_count": 148,
      "metadata": {
        "id": "bg-ircxlUQAC",
        "colab": {
          "base_uri": "https://localhost:8080/",
          "height": 1000
        },
        "outputId": "ed11daf4-6b4c-4bd1-ee2c-5b141a8680fa"
      },
      "outputs": [
        {
          "output_type": "stream",
          "name": "stdout",
          "text": [
            "Общая ошибка нормировки: 6.66e-16\n"
          ]
        },
        {
          "output_type": "display_data",
          "data": {
            "text/plain": [
              "<Figure size 640x480 with 1 Axes>"
            ],
            "image/png": "[encoded data removed]"
          },
          "metadata": {}
        },
        {
          "output_type": "display_data",
          "data": {
            "text/plain": [
              "<Figure size 1000x1000 with 16 Axes>"
            ],
            "image/png": "[encoded data removed]"
          },
          "metadata": {}
        }
      ],
      "source": [
        "#plot all the histograms for (3, 3) cells:\n",
        "image = random.choice(train_fmnist_data)[0][0].numpy()\n",
        "hog = compute_hog(image)\n",
        "\n",
        "# draw cells on the image\n",
        "plt.imshow(image)\n",
        "for i in range(4):\n",
        "    for j in range(4):\n",
        "        plt.gca().add_patch(plt.Rectangle((j * cell_size, i * cell_size), cell_size, cell_size, fill=False, edgecolor='red', linewidth=1))\n",
        "plt.show()\n",
        "\n",
        "\n",
        "plt.figure(figsize=(10, 10))\n",
        "for i in range(4):\n",
        "    for j in range(4):\n",
        "        plt.subplot(4, 4, i * 4 + j + 1)\n",
        "        plt.bar(range(len(hog[i, j])), hog[i, j])\n",
        "        plt.title(f\"Cell {i}, {j}\")\n",
        "plt.show()\n"
      ]
    },
    {
      "cell_type": "markdown",
      "metadata": {
        "id": "t9mROLC2UQAC"
      },
      "source": [
        "### Сдача задания\n",
        "Сдайте функции в задачу в соревновании. Не забудьте, что при вставке кода все импортируемые библиотеки также должны вставляться вместе с вашим кодом. Вы не должны использовать что-либо, кроме `numpy` при написании решения."
      ]
    },
    {
      "cell_type": "markdown",
      "metadata": {
        "id": "OtWnYAN_gSrA"
      },
      "source": [
        "На этом задание завершено. Поздравляем!"
      ]
    }
  ],
  "metadata": {
    "accelerator": "GPU",
    "colab": {
      "gpuType": "T4",
      "provenance": []
    },
    "kernelspec": {
      "display_name": "py3_main",
      "language": "python",
      "name": "python3"
    },
    "language_info": {
      "codemirror_mode": {
        "name": "ipython",
        "version": 3
      },
      "file_extension": ".py",
      "mimetype": "text/x-python",
      "name": "python",
      "nbconvert_exporter": "python",
      "pygments_lexer": "ipython3",
      "version": "3.12.9"
    },
    "toc": {
      "base_numbering": 1,
      "nav_menu": {},
      "number_sections": true,
      "sideBar": true,
      "skip_h1_title": false,
      "title_cell": "Table of Contents",
      "title_sidebar": "Contents",
      "toc_cell": false,
      "toc_position": {},
      "toc_section_display": true,
      "toc_window_display": false
    }
  },
  "nbformat": 4,
  "nbformat_minor": 0
}